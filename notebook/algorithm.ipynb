{
 "cells": [
  {
   "cell_type": "code",
   "execution_count": null,
   "id": "08a331ee",
   "metadata": {},
   "outputs": [],
   "source": [
    "# Requisitos funcionais\n",
    "# 1 - escolher filme baseado em uma lista\n",
    "# 2 - exibir sua lista baseado nos filmes escolhidos\n",
    "# 3 - ser possível classificar se gostou ou não de um filme\n",
    "# 4 - remover ou impulsionar filmes baseado na interação do passo anterior"
   ]
  },
  {
   "cell_type": "markdown",
   "id": "673f523f-fd76-4129-a60f-e7a484fe074d",
   "metadata": {
    "tags": []
   },
   "source": [
    "# Função responsável por consultar os filmes baseado nas especificações do usuário"
   ]
  },
  {
   "cell_type": "code",
   "execution_count": 15,
   "id": "1269c0a7",
   "metadata": {
    "tags": []
   },
   "outputs": [],
   "source": [
    "import requests\n",
    "\n",
    "# https://developer.themoviedb.org/reference/discover-movie\n",
    "\n",
    "API_KEY = \"20b8ac581ae40eadf1488dfcda82471c\"\n",
    "BASE_URL = \"https://api.themoviedb.org/3\"\n",
    "\n",
    "def get_movies(genres_ids=None):   \n",
    "    endpoint = f\"{BASE_URL}/discover/movie\"\n",
    "    params = {\n",
    "        \"api_key\": API_KEY,\n",
    "        \"language\": \"pt-BR\",\n",
    "        \"sort_by\": \"vote_average.desc\",\n",
    "        \"vote_count.gte\": 100,\n",
    "    }\n",
    "\n",
    "    if genres_ids:\n",
    "        params[\"with_genres\"] = genres_ids\n",
    "        \n",
    "    response = requests.get(endpoint, params=params)\n",
    "    movies = response.json().get(\"results\", [])\n",
    "\n",
    "    return movies\n"
   ]
  },
  {
   "attachments": {
    "b3b6ea33-3fc5-44ed-82cf-7acc3f38dcb9.png": {
     "image/png": "[encoded data removed]"
    }
   },
   "cell_type": "markdown",
   "id": "11090277-9546-4c64-bc78-2a78c69b0e5c",
   "metadata": {},
   "source": [
    "# Algoritmo de classificação\n",
    "- Após o usuário selecionar os títulos que chamam sua atenção, será realizada uma consulta baseada em características dos filmes, como o gênero, por exemplo.\n",
    "\n",
    "- Os filmes retornados pela consulta serão exibidos ao usuário. Caso ele goste de algum título, será feita uma análise de similaridade com base nos gêneros dos filmes marcados como \"gostei\".\n",
    "\n",
    "- A similaridade será calculada utilizando a distância entre vetores, conforme demonstrado no código abaixo, com o uso da biblioteca sklearn.\n",
    "\n",
    "    ![image.png](attachment:b3b6ea33-3fc5-44ed-82cf-7acc3f38dcb9.png)"
   ]
  },
  {
   "cell_type": "code",
   "execution_count": 54,
   "id": "6cd7786a-2be0-4cae-b5d4-7e5c6cccfed0",
   "metadata": {
    "tags": []
   },
   "outputs": [
    {
     "name": "stdout",
     "output_type": "stream",
     "text": [
      "    user_id                             title   rating    genre_ids   \n",
      "12        1          O Silêncio dos Inocentes     LIKE     80,18,53  \\\n",
      "16        1           A Um Passo da Liberdade     NONE     18,53,80   \n",
      "19        1                      Os Suspeitos     NONE     18,80,53   \n",
      "1         1             Um Sonho de Liberdade     NONE        18,80   \n",
      "2         1                 O Poderoso Chefão     LIKE        18,80   \n",
      "3         1       O Poderoso Chefão: Parte II  DISLIKE        18,80   \n",
      "7         1              Os Bons Companheiros     NONE        18,80   \n",
      "8         1                    Cidade de Deus     NONE        18,80   \n",
      "9         1            Era Uma Vez na América     NONE        18,80   \n",
      "4         1    Batman: O Cavaleiro das Trevas     NONE  18,28,80,53   \n",
      "5         1            À Espera de um Milagre     NONE     14,18,80   \n",
      "13        1                     Céu e Inferno  DISLIKE   18,80,9648   \n",
      "14        1            Um Dia Quente de Verão     NONE  80,18,10749   \n",
      "17        1            Testemunha de Acusação     NONE   18,9648,80   \n",
      "6         1  Pulp Fiction: Tempo de Violência     NONE        53,80   \n",
      "11        1    Seven: Os Sete Crimes Capitais     NONE   80,9648,53   \n",
      "0         1        As Três Mortes de Marisela     NONE        99,80   \n",
      "18        1                  Laranja Mecânica     NONE       878,80   \n",
      "10        1             O.J.: Made in America     NONE     99,80,36   \n",
      "15        2                    O Profissional     NONE     80,18,28   \n",
      "\n",
      "    vote_average  is_user  priority  genre_similarity  \n",
      "12         8.347        1         1          0.908248  \n",
      "16         8.300        1         2          0.908248  \n",
      "19         8.200        1         2          0.908248  \n",
      "1          8.708        1         2          0.908248  \n",
      "2          8.690        1         1          0.908248  \n",
      "3          8.572        1         3          0.908248  \n",
      "7          8.457        1         2          0.908248  \n",
      "8          8.425        1         2          0.908248  \n",
      "9          8.420        1         2          0.908248  \n",
      "4          8.500        1         2          0.786566  \n",
      "5          8.507        1         2          0.741582  \n",
      "13         8.331        1         3          0.741582  \n",
      "14         8.300        1         2          0.741582  \n",
      "17         8.208        1         2          0.741582  \n",
      "6          8.500        1         2          0.658248  \n",
      "11         8.400        1         2          0.537457  \n",
      "0          8.900        1         2          0.454124  \n",
      "18         8.200        1         2          0.454124  \n",
      "10         8.419        1         2          0.370791  \n",
      "15         8.305        0         2          0.741582  \n"
     ]
    }
   ],
   "source": [
    "import pandas as pd\n",
    "from sklearn.metrics.pairwise import cosine_similarity\n",
    "from sklearn.feature_extraction.text import CountVectorizer\n",
    "\n",
    "user_id = 1\n",
    "selected_genres = [28, 12, 18, 10749, 14, 35, 878, 53]\n",
    "\n",
    "def create_user_list(user, selected_genres):\n",
    "    movies = get_movies(selected_genres)\n",
    "#     movie_instances = []\n",
    "#     for movie in movies:\n",
    "#         movie_instances.append(\n",
    "#             MyMovieList(\n",
    "#                 movie_id=movie[\"id\"],\n",
    "#                 title=movie[\"title\"],\n",
    "#                 poster_path=movie.get(\"poster_path\", \"\"),\n",
    "#                 vote_average=movie[\"vote_average\"],\n",
    "#                 genre_ids=\",\".join(map(str, movie[\"genre_ids\"])),\n",
    "#                 overview=movie.get(\"overview\", \"\"),\n",
    "#                 release_date=movie.get(\"release_date\", \"1900-01-01\"),\n",
    "#                 user=user,\n",
    "#             )\n",
    "#         )\n",
    "\n",
    "#     MyMovieList.objects.bulk_create(movie_instances)\n",
    "\n",
    "#     return f\"{len(movie_instances)} movies saved to the database.\"\n",
    "\n",
    "def recommend_movies(user_id):\n",
    "    df_user_list = pd.read_csv(\"notebook/movies.csv\", sep=\",\")\n",
    "    priority_map = {\n",
    "        'LIKE': 1,\n",
    "        'NONE': 2,\n",
    "        'DISLIKE': 3,\n",
    "    }\n",
    "    \n",
    "    # classificar prioridade\n",
    "    df_user_list['priority'] = df_user_list['rating'].map(priority_map)    \n",
    "    # verificar se pertence a lista do usuario\n",
    "    df_user_list['is_user'] = (df_user_list['user_id'] == user_id).astype(int)\n",
    "    \n",
    "    liked_movies = df_user_list[(df_user_list['rating'] == 'LIKE') & (df_user_list['user_id'] == user_id)]\n",
    "    df_user_list['genre_ids'] = df_user_list['genre_ids'].astype(str)\n",
    "    \n",
    "    # criar vetores para o sklearn calcular a similaridade\n",
    "    vectorizer = CountVectorizer(token_pattern=r'[^,]+', binary=True)\n",
    "    genre_matrix = vectorizer.fit_transform(df_user_list['genre_ids'])\n",
    "    \n",
    "    liked_movies = df_user_list[(df_user_list['rating'] == 'LIKE') & (df_user_list['user_id'] == user_id)]\n",
    "    if not liked_movies.empty:\n",
    "        liked_genres = vectorizer.transform(liked_movies['genre_ids'])\n",
    "        similarity_scores = cosine_similarity(genre_matrix, liked_genres).mean(axis=1)\n",
    "    else:\n",
    "        # caso o usuário não tenha marcado nada como \"gostei\", definir similaridade padrao\n",
    "        similarity_scores = [0] * len(df_user_list['genre_ids'])\n",
    "        \n",
    "    df_user_list['genre_similarity'] = similarity_scores\n",
    "    \n",
    "    # Ordenar os filmes com base nas prioridades:\n",
    "    # 1. Filmes do usuário atual \n",
    "    # 2. Similaridade de gêneros\n",
    "    # 3. vote_average\n",
    "    # 4. priority\n",
    "    df_user_list = df_user_list.sort_values(\n",
    "        by=['is_user', 'genre_similarity', 'vote_average', 'priority'],\n",
    "        ascending=[False, False, False, True]\n",
    "    )\n",
    "\n",
    "    print(df_user_list.loc[:, ['user_id', 'title', 'rating', 'genre_ids', 'vote_average', 'is_user', 'priority', 'genre_similarity']])\n",
    "    \n",
    "    # return df_user_list.to_dict(orient=\"records\")\n",
    "\n",
    "%config IPCompleter.greedy=True\n",
    "recommend_movies(1)"
   ]
  },
  {
   "cell_type": "code",
   "execution_count": null,
   "id": "3b025614-baf2-4c93-9f41-0878d98ce485",
   "metadata": {},
   "outputs": [],
   "source": []
  }
 ],
 "metadata": {
  "kernelspec": {
   "display_name": "Python 3 (ipykernel)",
   "language": "python",
   "name": "python3"
  },
  "language_info": {
   "codemirror_mode": {
    "name": "ipython",
    "version": 3
   },
   "file_extension": ".py",
   "mimetype": "text/x-python",
   "name": "python",
   "nbconvert_exporter": "python",
   "pygments_lexer": "ipython3",
   "version": "3.8.10"
  }
 },
 "nbformat": 4,
 "nbformat_minor": 5
}
